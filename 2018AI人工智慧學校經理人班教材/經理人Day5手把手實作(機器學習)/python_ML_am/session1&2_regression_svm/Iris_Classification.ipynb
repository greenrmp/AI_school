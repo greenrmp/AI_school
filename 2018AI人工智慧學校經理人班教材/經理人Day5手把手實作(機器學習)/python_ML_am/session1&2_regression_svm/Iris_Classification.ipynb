{
 "cells": [
  {
   "cell_type": "markdown",
   "metadata": {},
   "source": [
    "# 1. Import Basic Python Package"
   ]
  },
  {
   "cell_type": "code",
   "execution_count": 1,
   "metadata": {
    "collapsed": true
   },
   "outputs": [],
   "source": [
    "import numpy as np\n",
    "import pandas as pd\n",
    "import matplotlib.pyplot as plt\n",
    "from matplotlib.pylab import rcParams"
   ]
  },
  {
   "cell_type": "markdown",
   "metadata": {},
   "source": [
    "# 2. 了解問題：\n",
    "(1) 定義問題：??(2) 蒐集資料"
   ]
  },
  {
   "cell_type": "code",
   "execution_count": 2,
   "metadata": {},
   "outputs": [
    {
     "name": "stdout",
     "output_type": "stream",
     "text": [
      "dict_keys(['DESCR', 'target_names', 'data', 'feature_names', 'target'])\n"
     ]
    }
   ],
   "source": [
    "from sklearn.datasets import load_iris\n",
    "iris_data = load_iris()\n",
    "print(iris_data.keys())"
   ]
  },
  {
   "cell_type": "code",
   "execution_count": 3,
   "metadata": {},
   "outputs": [
    {
     "name": "stdout",
     "output_type": "stream",
     "text": [
      "Iris Plants Database\n",
      "====================\n",
      "\n",
      "Notes\n",
      "-----\n",
      "Data Set Characteristics:\n",
      "    :Number of Instances: 150 (50 in each of three classes)\n",
      "    :Number of Attributes: 4 numeric, predictive attributes and the class\n",
      "    :Attribute Information:\n",
      "        - sepal length in cm\n",
      "        - sepal width in cm\n",
      "        - petal length in cm\n",
      "        - petal width in cm\n",
      "        - class:\n",
      "                - Iris-Setosa\n",
      "                - Iris-Versicolour\n",
      "                - Iris-Virginica\n",
      "    :Summary Statistics:\n",
      "\n",
      "    ============== ==== ==== ======= ===== ====================\n",
      "                    Min  Max   Mean    SD   Class Correlation\n",
      "    ============== ==== ==== ======= ===== ====================\n",
      "    sepal length:   4.3  7.9   5.84   0.83    0.7826\n",
      "    sepal width:    2.0  4.4   3.05   0.43   -0.4194\n",
      "    petal length:   1.0  6.9   3.76   1.76    0.9490  (high!)\n",
      "    petal width:    0.1  2.5   1.20  0.76     0.9565  (high!)\n",
      "    ============== ==== ==== ======= ===== ====================\n",
      "\n",
      "    :Missing Attribute Values: None\n",
      "    :Class Distribution: 33.3% for each of 3 classes.\n",
      "    :Creator: R.A. Fisher\n",
      "    :Donor: Michael Marshall (MARSHALL%PLU@io.arc.nasa.gov)\n",
      "    :Date: July, 1988\n",
      "\n",
      "This is a copy of UCI ML iris datasets.\n",
      "http://archive.ics.uci.edu/ml/datasets/Iris\n",
      "\n",
      "The famous Iris database, first used by Sir R.A Fisher\n",
      "\n",
      "This is perhaps the best known database to be found in the\n",
      "pattern recognition literature.  Fisher's paper is a classic in the field and\n",
      "is referenced frequently to this day.  (See Duda & Hart, for example.)  The\n",
      "data set contains 3 classes of 50 instances each, where each class refers to a\n",
      "type of iris plant.  One class is linearly separable from the other 2; the\n",
      "latter are NOT linearly separable from each other.\n",
      "\n",
      "References\n",
      "----------\n",
      "   - Fisher,R.A. \"The use of multiple measurements in taxonomic problems\"\n",
      "     Annual Eugenics, 7, Part II, 179-188 (1936); also in \"Contributions to\n",
      "     Mathematical Statistics\" (John Wiley, NY, 1950).\n",
      "   - Duda,R.O., & Hart,P.E. (1973) Pattern Classification and Scene Analysis.\n",
      "     (Q327.D83) John Wiley & Sons.  ISBN 0-471-22361-1.  See page 218.\n",
      "   - Dasarathy, B.V. (1980) \"Nosing Around the Neighborhood: A New System\n",
      "     Structure and Classification Rule for Recognition in Partially Exposed\n",
      "     Environments\".  IEEE Transactions on Pattern Analysis and Machine\n",
      "     Intelligence, Vol. PAMI-2, No. 1, 67-71.\n",
      "   - Gates, G.W. (1972) \"The Reduced Nearest Neighbor Rule\".  IEEE Transactions\n",
      "     on Information Theory, May 1972, 431-433.\n",
      "   - See also: 1988 MLC Proceedings, 54-64.  Cheeseman et al\"s AUTOCLASS II\n",
      "     conceptual clustering system finds 3 classes in the data.\n",
      "   - Many, many more ...\n",
      "\n"
     ]
    }
   ],
   "source": [
    "print(iris_data.DESCR)"
   ]
  },
  {
   "cell_type": "code",
   "execution_count": 4,
   "metadata": {},
   "outputs": [
    {
     "name": "stdout",
     "output_type": "stream",
     "text": [
      "[[ 5.1  3.5  1.4  0.2]\n",
      " [ 4.9  3.   1.4  0.2]\n",
      " [ 4.7  3.2  1.3  0.2]\n",
      " [ 4.6  3.1  1.5  0.2]\n",
      " [ 5.   3.6  1.4  0.2]\n",
      " [ 5.4  3.9  1.7  0.4]\n",
      " [ 4.6  3.4  1.4  0.3]\n",
      " [ 5.   3.4  1.5  0.2]\n",
      " [ 4.4  2.9  1.4  0.2]\n",
      " [ 4.9  3.1  1.5  0.1]\n",
      " [ 5.4  3.7  1.5  0.2]\n",
      " [ 4.8  3.4  1.6  0.2]\n",
      " [ 4.8  3.   1.4  0.1]\n",
      " [ 4.3  3.   1.1  0.1]\n",
      " [ 5.8  4.   1.2  0.2]\n",
      " [ 5.7  4.4  1.5  0.4]\n",
      " [ 5.4  3.9  1.3  0.4]\n",
      " [ 5.1  3.5  1.4  0.3]\n",
      " [ 5.7  3.8  1.7  0.3]\n",
      " [ 5.1  3.8  1.5  0.3]\n",
      " [ 5.4  3.4  1.7  0.2]\n",
      " [ 5.1  3.7  1.5  0.4]\n",
      " [ 4.6  3.6  1.   0.2]\n",
      " [ 5.1  3.3  1.7  0.5]\n",
      " [ 4.8  3.4  1.9  0.2]\n",
      " [ 5.   3.   1.6  0.2]\n",
      " [ 5.   3.4  1.6  0.4]\n",
      " [ 5.2  3.5  1.5  0.2]\n",
      " [ 5.2  3.4  1.4  0.2]\n",
      " [ 4.7  3.2  1.6  0.2]\n",
      " [ 4.8  3.1  1.6  0.2]\n",
      " [ 5.4  3.4  1.5  0.4]\n",
      " [ 5.2  4.1  1.5  0.1]\n",
      " [ 5.5  4.2  1.4  0.2]\n",
      " [ 4.9  3.1  1.5  0.1]\n",
      " [ 5.   3.2  1.2  0.2]\n",
      " [ 5.5  3.5  1.3  0.2]\n",
      " [ 4.9  3.1  1.5  0.1]\n",
      " [ 4.4  3.   1.3  0.2]\n",
      " [ 5.1  3.4  1.5  0.2]\n",
      " [ 5.   3.5  1.3  0.3]\n",
      " [ 4.5  2.3  1.3  0.3]\n",
      " [ 4.4  3.2  1.3  0.2]\n",
      " [ 5.   3.5  1.6  0.6]\n",
      " [ 5.1  3.8  1.9  0.4]\n",
      " [ 4.8  3.   1.4  0.3]\n",
      " [ 5.1  3.8  1.6  0.2]\n",
      " [ 4.6  3.2  1.4  0.2]\n",
      " [ 5.3  3.7  1.5  0.2]\n",
      " [ 5.   3.3  1.4  0.2]\n",
      " [ 7.   3.2  4.7  1.4]\n",
      " [ 6.4  3.2  4.5  1.5]\n",
      " [ 6.9  3.1  4.9  1.5]\n",
      " [ 5.5  2.3  4.   1.3]\n",
      " [ 6.5  2.8  4.6  1.5]\n",
      " [ 5.7  2.8  4.5  1.3]\n",
      " [ 6.3  3.3  4.7  1.6]\n",
      " [ 4.9  2.4  3.3  1. ]\n",
      " [ 6.6  2.9  4.6  1.3]\n",
      " [ 5.2  2.7  3.9  1.4]\n",
      " [ 5.   2.   3.5  1. ]\n",
      " [ 5.9  3.   4.2  1.5]\n",
      " [ 6.   2.2  4.   1. ]\n",
      " [ 6.1  2.9  4.7  1.4]\n",
      " [ 5.6  2.9  3.6  1.3]\n",
      " [ 6.7  3.1  4.4  1.4]\n",
      " [ 5.6  3.   4.5  1.5]\n",
      " [ 5.8  2.7  4.1  1. ]\n",
      " [ 6.2  2.2  4.5  1.5]\n",
      " [ 5.6  2.5  3.9  1.1]\n",
      " [ 5.9  3.2  4.8  1.8]\n",
      " [ 6.1  2.8  4.   1.3]\n",
      " [ 6.3  2.5  4.9  1.5]\n",
      " [ 6.1  2.8  4.7  1.2]\n",
      " [ 6.4  2.9  4.3  1.3]\n",
      " [ 6.6  3.   4.4  1.4]\n",
      " [ 6.8  2.8  4.8  1.4]\n",
      " [ 6.7  3.   5.   1.7]\n",
      " [ 6.   2.9  4.5  1.5]\n",
      " [ 5.7  2.6  3.5  1. ]\n",
      " [ 5.5  2.4  3.8  1.1]\n",
      " [ 5.5  2.4  3.7  1. ]\n",
      " [ 5.8  2.7  3.9  1.2]\n",
      " [ 6.   2.7  5.1  1.6]\n",
      " [ 5.4  3.   4.5  1.5]\n",
      " [ 6.   3.4  4.5  1.6]\n",
      " [ 6.7  3.1  4.7  1.5]\n",
      " [ 6.3  2.3  4.4  1.3]\n",
      " [ 5.6  3.   4.1  1.3]\n",
      " [ 5.5  2.5  4.   1.3]\n",
      " [ 5.5  2.6  4.4  1.2]\n",
      " [ 6.1  3.   4.6  1.4]\n",
      " [ 5.8  2.6  4.   1.2]\n",
      " [ 5.   2.3  3.3  1. ]\n",
      " [ 5.6  2.7  4.2  1.3]\n",
      " [ 5.7  3.   4.2  1.2]\n",
      " [ 5.7  2.9  4.2  1.3]\n",
      " [ 6.2  2.9  4.3  1.3]\n",
      " [ 5.1  2.5  3.   1.1]\n",
      " [ 5.7  2.8  4.1  1.3]\n",
      " [ 6.3  3.3  6.   2.5]\n",
      " [ 5.8  2.7  5.1  1.9]\n",
      " [ 7.1  3.   5.9  2.1]\n",
      " [ 6.3  2.9  5.6  1.8]\n",
      " [ 6.5  3.   5.8  2.2]\n",
      " [ 7.6  3.   6.6  2.1]\n",
      " [ 4.9  2.5  4.5  1.7]\n",
      " [ 7.3  2.9  6.3  1.8]\n",
      " [ 6.7  2.5  5.8  1.8]\n",
      " [ 7.2  3.6  6.1  2.5]\n",
      " [ 6.5  3.2  5.1  2. ]\n",
      " [ 6.4  2.7  5.3  1.9]\n",
      " [ 6.8  3.   5.5  2.1]\n",
      " [ 5.7  2.5  5.   2. ]\n",
      " [ 5.8  2.8  5.1  2.4]\n",
      " [ 6.4  3.2  5.3  2.3]\n",
      " [ 6.5  3.   5.5  1.8]\n",
      " [ 7.7  3.8  6.7  2.2]\n",
      " [ 7.7  2.6  6.9  2.3]\n",
      " [ 6.   2.2  5.   1.5]\n",
      " [ 6.9  3.2  5.7  2.3]\n",
      " [ 5.6  2.8  4.9  2. ]\n",
      " [ 7.7  2.8  6.7  2. ]\n",
      " [ 6.3  2.7  4.9  1.8]\n",
      " [ 6.7  3.3  5.7  2.1]\n",
      " [ 7.2  3.2  6.   1.8]\n",
      " [ 6.2  2.8  4.8  1.8]\n",
      " [ 6.1  3.   4.9  1.8]\n",
      " [ 6.4  2.8  5.6  2.1]\n",
      " [ 7.2  3.   5.8  1.6]\n",
      " [ 7.4  2.8  6.1  1.9]\n",
      " [ 7.9  3.8  6.4  2. ]\n",
      " [ 6.4  2.8  5.6  2.2]\n",
      " [ 6.3  2.8  5.1  1.5]\n",
      " [ 6.1  2.6  5.6  1.4]\n",
      " [ 7.7  3.   6.1  2.3]\n",
      " [ 6.3  3.4  5.6  2.4]\n",
      " [ 6.4  3.1  5.5  1.8]\n",
      " [ 6.   3.   4.8  1.8]\n",
      " [ 6.9  3.1  5.4  2.1]\n",
      " [ 6.7  3.1  5.6  2.4]\n",
      " [ 6.9  3.1  5.1  2.3]\n",
      " [ 5.8  2.7  5.1  1.9]\n",
      " [ 6.8  3.2  5.9  2.3]\n",
      " [ 6.7  3.3  5.7  2.5]\n",
      " [ 6.7  3.   5.2  2.3]\n",
      " [ 6.3  2.5  5.   1.9]\n",
      " [ 6.5  3.   5.2  2. ]\n",
      " [ 6.2  3.4  5.4  2.3]\n",
      " [ 5.9  3.   5.1  1.8]]\n",
      "(150, 4)\n"
     ]
    }
   ],
   "source": [
    "# Features\n",
    "print(iris_data.data)\n",
    "print(iris_data.data.shape)"
   ]
  },
  {
   "cell_type": "code",
   "execution_count": 5,
   "metadata": {},
   "outputs": [
    {
     "name": "stdout",
     "output_type": "stream",
     "text": [
      "[0 0 0 0 0 0 0 0 0 0 0 0 0 0 0 0 0 0 0 0 0 0 0 0 0 0 0 0 0 0 0 0 0 0 0 0 0\n",
      " 0 0 0 0 0 0 0 0 0 0 0 0 0 1 1 1 1 1 1 1 1 1 1 1 1 1 1 1 1 1 1 1 1 1 1 1 1\n",
      " 1 1 1 1 1 1 1 1 1 1 1 1 1 1 1 1 1 1 1 1 1 1 1 1 1 1 2 2 2 2 2 2 2 2 2 2 2\n",
      " 2 2 2 2 2 2 2 2 2 2 2 2 2 2 2 2 2 2 2 2 2 2 2 2 2 2 2 2 2 2 2 2 2 2 2 2 2\n",
      " 2 2]\n",
      "(150,)\n"
     ]
    }
   ],
   "source": [
    "# Label\n",
    "print(iris_data.target) \n",
    "print(iris_data.target.shape) "
   ]
  },
  {
   "cell_type": "markdown",
   "metadata": {},
   "source": [
    "# 2. Training and Testing Split\n",
    "為了統一大家預測的結果請大家設定random_state=40,shuffle=True"
   ]
  },
  {
   "cell_type": "code",
   "execution_count": 6,
   "metadata": {
    "collapsed": true
   },
   "outputs": [],
   "source": [
    "from sklearn.model_selection import train_test_split\n",
    "# split the data into training and validation sets\n",
    "X_train, X_test, y_train, y_test = train_test_split(iris_data.data, iris_data.target, test_size=0.33, random_state=40\n",
    "                                                    , shuffle=True)"
   ]
  },
  {
   "cell_type": "markdown",
   "metadata": {},
   "source": [
    "# 3. Classify Iris: Simple Logistic Regression"
   ]
  },
  {
   "cell_type": "code",
   "execution_count": 7,
   "metadata": {
    "collapsed": true
   },
   "outputs": [],
   "source": [
    "from sklearn.linear_model import LogisticRegression\n",
    "model = LogisticRegression()\n",
    "model.fit(X_train,y_train)\n",
    "y_train_pred = model.predict(X_train)\n",
    "y_test_pred = model.predict(X_test)"
   ]
  },
  {
   "cell_type": "markdown",
   "metadata": {},
   "source": [
    "# 4. Prediction Result Evaluation"
   ]
  },
  {
   "cell_type": "code",
   "execution_count": 8,
   "metadata": {},
   "outputs": [
    {
     "name": "stdout",
     "output_type": "stream",
     "text": [
      "train evaluation---------------------------------\n",
      "accuracy:0.97\n",
      "confusion matirx:\n",
      " [[32  0  0]\n",
      " [ 0 33  2]\n",
      " [ 0  1 32]]\n",
      "test evaluation---------------------------------\n",
      "accuracy:0.96\n",
      "confusion matirx:\n",
      " [[18  0  0]\n",
      " [ 0 13  2]\n",
      " [ 0  0 17]]\n"
     ]
    }
   ],
   "source": [
    "from sklearn import metrics\n",
    "print('train evaluation---------------------------------')\n",
    "print('accuracy:%.2f'%metrics.accuracy_score(y_train, y_train_pred))\n",
    "print('confusion matirx:\\n', metrics.confusion_matrix(y_train, y_train_pred))\n",
    "print('test evaluation---------------------------------')\n",
    "print('accuracy:%.2f'%metrics.accuracy_score(y_test, y_test_pred))\n",
    "print('confusion matirx:\\n', metrics.confusion_matrix(y_test, y_test_pred))"
   ]
  },
  {
   "cell_type": "markdown",
   "metadata": {},
   "source": [
    "# 5. Logistic Regression Probability Output"
   ]
  },
  {
   "cell_type": "code",
   "execution_count": 9,
   "metadata": {},
   "outputs": [
    {
     "name": "stdout",
     "output_type": "stream",
     "text": [
      "Classification Output:\n",
      " [0 2 2 2 1 2 1 1 2 0 1 0 0 2 1 2 2 2 1 1 2 2 1 0 1 0 0 2 0 1 1 0 0 0 0 2 0\n",
      " 0 2 0 0 1 2 2 2 0 2 2 1 0]\n",
      "Probability Output:\n",
      " [[  8.20766401e-01   1.79040983e-01   1.92615841e-04]\n",
      " [  1.62860065e-02   4.44465841e-01   5.39248153e-01]\n",
      " [  1.81127337e-03   2.21966629e-01   7.76222098e-01]\n",
      " [  3.60117224e-04   2.88883445e-01   7.10756438e-01]\n",
      " [  2.76034855e-02   6.22240519e-01   3.50155996e-01]\n",
      " [  1.06599586e-03   1.78043745e-01   8.20890260e-01]\n",
      " [  4.95273912e-03   5.65147326e-01   4.29899935e-01]\n",
      " [  2.57204796e-02   6.09361146e-01   3.64918374e-01]\n",
      " [  1.40015753e-02   3.95384147e-01   5.90614277e-01]\n",
      " [  8.45597196e-01   1.54360782e-01   4.20223801e-05]\n",
      " [  1.26683625e-02   5.72730469e-01   4.14601169e-01]\n",
      " [  8.45521112e-01   1.54360242e-01   1.18645942e-04]\n",
      " [  8.81128447e-01   1.18821318e-01   5.02356010e-05]\n",
      " [  4.93411251e-03   4.03021760e-01   5.92044127e-01]\n",
      " [  1.49163422e-01   7.85383976e-01   6.54526015e-02]\n",
      " [  7.87157084e-04   2.01962027e-01   7.97250816e-01]\n",
      " [  3.31791016e-03   4.12342429e-01   5.84339661e-01]\n",
      " [  1.15968207e-03   2.81298266e-01   7.17542052e-01]\n",
      " [  1.17445740e-02   7.29746453e-01   2.58508973e-01]\n",
      " [  4.02009508e-02   5.19509107e-01   4.40289942e-01]\n",
      " [  5.09354871e-04   3.01523053e-01   6.97967592e-01]\n",
      " [  1.28529025e-04   3.90031975e-01   6.09839496e-01]\n",
      " [  1.84417717e-02   6.09896609e-01   3.71661619e-01]\n",
      " [  8.72802926e-01   1.27143368e-01   5.37058031e-05]\n",
      " [  1.73542127e-01   6.78191788e-01   1.48266086e-01]\n",
      " [  8.75340657e-01   1.24631431e-01   2.79121067e-05]\n",
      " [  8.26536912e-01   1.73347971e-01   1.15117457e-04]\n",
      " [  1.37569015e-03   3.70995195e-01   6.27629114e-01]\n",
      " [  7.90699189e-01   2.09204130e-01   9.66811230e-05]\n",
      " [  6.38843395e-02   7.88877042e-01   1.47238619e-01]\n",
      " [  2.74117291e-02   8.23691405e-01   1.48896866e-01]\n",
      " [  8.47716017e-01   1.52067929e-01   2.16054690e-04]\n",
      " [  8.61192712e-01   1.38668096e-01   1.39191690e-04]\n",
      " [  8.75689748e-01   1.24280196e-01   3.00561443e-05]\n",
      " [  8.40477040e-01   1.59429167e-01   9.37935697e-05]\n",
      " [  5.54804266e-04   3.18753985e-01   6.80691211e-01]\n",
      " [  8.74988998e-01   1.24880706e-01   1.30295756e-04]\n",
      " [  8.50297827e-01   1.49554698e-01   1.47475207e-04]\n",
      " [  1.10102031e-03   3.13194370e-01   6.85704610e-01]\n",
      " [  9.45149778e-01   5.48403277e-02   9.89405370e-06]\n",
      " [  8.14011983e-01   1.85795137e-01   1.92879798e-04]\n",
      " [  2.43866922e-02   7.10062868e-01   2.65550440e-01]\n",
      " [  5.19365968e-03   3.61350982e-01   6.33455359e-01]\n",
      " [  5.21766455e-04   3.51577083e-01   6.47901150e-01]\n",
      " [  8.23638108e-04   4.15143984e-01   5.84032378e-01]\n",
      " [  8.42441399e-01   1.57497947e-01   6.06540628e-05]\n",
      " [  3.18572882e-05   4.15928418e-01   5.84039724e-01]\n",
      " [  6.37977639e-03   3.54772938e-01   6.38847286e-01]\n",
      " [  4.48039638e-02   7.83460041e-01   1.71735995e-01]\n",
      " [  7.90699189e-01   2.09204130e-01   9.66811230e-05]]\n"
     ]
    }
   ],
   "source": [
    "from sklearn.linear_model import LogisticRegression\n",
    "model = LogisticRegression()\n",
    "model.fit(X_train,y_train)\n",
    "y_test_pred = model.predict(X_test)\n",
    "y_test_pred_proba = model.predict_proba(X_test)\n",
    "print('Classification Output:\\n', y_test_pred)\n",
    "print('Probability Output:\\n', y_test_pred_proba)"
   ]
  },
  {
   "cell_type": "markdown",
   "metadata": {},
   "source": [
    "# 6. 調整C值"
   ]
  },
  {
   "cell_type": "code",
   "execution_count": 10,
   "metadata": {},
   "outputs": [
    {
     "name": "stdout",
     "output_type": "stream",
     "text": [
      "train evaluation---------------------------------\n",
      "accuracy:0.97\n",
      "confusion matirx:\n",
      " [[32  0  0]\n",
      " [ 0 33  2]\n",
      " [ 0  1 32]]\n",
      "test evaluation---------------------------------\n",
      "accuracy:0.96\n",
      "confusion matirx:\n",
      " [[18  0  0]\n",
      " [ 0 13  2]\n",
      " [ 0  0 17]]\n"
     ]
    }
   ],
   "source": [
    "\"\"\"調整看看C看看預測結果\"\"\"\n",
    "model = LogisticRegression(C=1)\n",
    "model.fit(X_train,y_train)\n",
    "y_train_pred = model.predict(X_train)\n",
    "y_test_pred = model.predict(X_test)\n",
    "print('train evaluation---------------------------------')\n",
    "print('accuracy:%.2f'%metrics.accuracy_score(y_train, y_train_pred))\n",
    "print('confusion matirx:\\n', metrics.confusion_matrix(y_train, y_train_pred))\n",
    "print('test evaluation---------------------------------')\n",
    "print('accuracy:%.2f'%metrics.accuracy_score(y_test, y_test_pred))\n",
    "print('confusion matirx:\\n', metrics.confusion_matrix(y_test, y_test_pred))"
   ]
  },
  {
   "cell_type": "markdown",
   "metadata": {},
   "source": [
    "# 7. 調整multi_class\n",
    "multinomial或ovr哪個performance好呢？\n",
    "提示： defaul的solver='liblinear'並不支援multi_class='multinomial'，直接寫會報錯，因此記得加上solver='sag'。"
   ]
  },
  {
   "cell_type": "code",
   "execution_count": 11,
   "metadata": {},
   "outputs": [
    {
     "name": "stdout",
     "output_type": "stream",
     "text": [
      "train evaluation---------------------------------\n",
      "accuracy:0.98\n",
      "confusion matirx:\n",
      " [[32  0  0]\n",
      " [ 0 33  2]\n",
      " [ 0  0 33]]\n",
      "test evaluation---------------------------------\n",
      "accuracy:1.00\n",
      "confusion matirx:\n",
      " [[18  0  0]\n",
      " [ 0 15  0]\n",
      " [ 0  0 17]]\n"
     ]
    },
    {
     "name": "stderr",
     "output_type": "stream",
     "text": [
      "/Users/Jacklin/anaconda3/envs/tensor_flow_py3p5/lib/python3.5/site-packages/sklearn/linear_model/sag.py:326: ConvergenceWarning: The max_iter was reached which means the coef_ did not converge\n",
      "  \"the coef_ did not converge\", ConvergenceWarning)\n"
     ]
    }
   ],
   "source": [
    "\"\"\"調整muti_class\"\"\"\n",
    "model = LogisticRegression(solver='sag', multi_class='multinomial')\n",
    "model.fit(X_train,y_train)\n",
    "y_train_pred = model.predict(X_train)\n",
    "y_test_pred = model.predict(X_test)\n",
    "print('train evaluation---------------------------------')\n",
    "print('accuracy:%.2f'%metrics.accuracy_score(y_train, y_train_pred))\n",
    "print('confusion matirx:\\n', metrics.confusion_matrix(y_train, y_train_pred))\n",
    "print('test evaluation---------------------------------')\n",
    "print('accuracy:%.2f'%metrics.accuracy_score(y_test, y_test_pred))\n",
    "print('confusion matirx:\\n', metrics.confusion_matrix(y_test, y_test_pred))"
   ]
  }
 ],
 "metadata": {
  "kernelspec": {
   "display_name": "Python 3",
   "language": "python",
   "name": "python3"
  },
  "language_info": {
   "codemirror_mode": {
    "name": "ipython",
    "version": 3
   },
   "file_extension": ".py",
   "mimetype": "text/x-python",
   "name": "python",
   "nbconvert_exporter": "python",
   "pygments_lexer": "ipython3",
   "version": "3.5.4"
  }
 },
 "nbformat": 4,
 "nbformat_minor": 2
}
