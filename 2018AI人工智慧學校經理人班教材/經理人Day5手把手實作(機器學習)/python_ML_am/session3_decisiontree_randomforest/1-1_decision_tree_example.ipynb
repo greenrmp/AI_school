{
 "cells": [
  {
   "cell_type": "markdown",
   "metadata": {},
   "source": [
    "# 機器學習建立模型四步驟\n",
    "\n",
    "在 Scikit-learn 中，建立一個機器學習的模型其實非常簡單，流程大略是以下四個步驟\n",
    "\n",
    "1. 讀進資料，並檢查 shape (有多少 rows, features，label 是甚麼型態)\n",
    "    - 常用的讀取資料函數\n",
    "        - pd.read_csv\n",
    "        - np.loadtxt \n",
    "        - sklearn.datasets.load_xxx\n",
    "    - data.shape (data need to be numpy arrays or pandas object)\n",
    "2. 將資料切為訓練集 (train) / 測試集 (test)\n",
    "    - x_train, x_test, y_train, y_test = train_test_split(data)\n",
    "3. 建立模型，將資料 fit 進模型開始訓練\n",
    "    - clf = DecisionTreeClassifier()\n",
    "    - clf.fit(x_train, y_train)\n",
    "4. 將測試資料 (features) 放進訓練好的模型中，得到 prediction，與測試資料的 label (y_test) 做評估\n",
    "    - y_prediction = clf.predict(x_test)\n",
    "    - accuracy_score(y_test, y_prediction)\n",
    "    - f1_score(y_test, y_prediction)"
   ]
  },
  {
   "cell_type": "code",
   "execution_count": 34,
   "metadata": {
    "collapsed": true
   },
   "outputs": [],
   "source": [
    "from sklearn.datasets import load_iris\n",
    "from sklearn.tree import DecisionTreeClassifier\n",
    "from sklearn.model_selection import train_test_split\n",
    "from sklearn.metrics import accuracy_score"
   ]
  },
  {
   "cell_type": "code",
   "execution_count": 35,
   "metadata": {
    "collapsed": true
   },
   "outputs": [],
   "source": [
    "# read iris data\n",
    "iris = load_iris()"
   ]
  },
  {
   "cell_type": "code",
   "execution_count": 36,
   "metadata": {},
   "outputs": [
    {
     "name": "stdout",
     "output_type": "stream",
     "text": [
      "(150, 4) (150,)\n"
     ]
    }
   ],
   "source": [
    "# check the data shape\n",
    "print(iris.data.shape, iris.target.shape)"
   ]
  },
  {
   "cell_type": "code",
   "execution_count": 37,
   "metadata": {
    "collapsed": true
   },
   "outputs": [],
   "source": [
    "random_seed = 5 # set seed for same train test data split results\n",
    "x_train, x_test, y_train, y_test = train_test_split(iris.data, iris.target,\n",
    "                                                    random_state=random_seed\n",
    "                                                   )"
   ]
  },
  {
   "cell_type": "code",
   "execution_count": 38,
   "metadata": {},
   "outputs": [
    {
     "name": "stdout",
     "output_type": "stream",
     "text": [
      "shape of X_train:  (112, 4)\n"
     ]
    }
   ],
   "source": [
    "print(\"shape of X_train: \", x_train.shape)"
   ]
  },
  {
   "cell_type": "code",
   "execution_count": 39,
   "metadata": {},
   "outputs": [
    {
     "name": "stdout",
     "output_type": "stream",
     "text": [
      "shape of X_test:  (38, 4)\n"
     ]
    }
   ],
   "source": [
    "print(\"shape of X_test: \", x_test.shape)"
   ]
  },
  {
   "cell_type": "code",
   "execution_count": 40,
   "metadata": {
    "collapsed": true
   },
   "outputs": [],
   "source": [
    "clf = DecisionTreeClassifier()"
   ]
  },
  {
   "cell_type": "code",
   "execution_count": 41,
   "metadata": {},
   "outputs": [
    {
     "data": {
      "text/plain": [
       "DecisionTreeClassifier(class_weight=None, criterion='gini', max_depth=None,\n",
       "            max_features=None, max_leaf_nodes=None,\n",
       "            min_impurity_decrease=0.0, min_impurity_split=None,\n",
       "            min_samples_leaf=1, min_samples_split=2,\n",
       "            min_weight_fraction_leaf=0.0, presort=False, random_state=None,\n",
       "            splitter='best')"
      ]
     },
     "execution_count": 41,
     "metadata": {},
     "output_type": "execute_result"
    }
   ],
   "source": [
    "clf.fit(x_train, y_train)"
   ]
  },
  {
   "cell_type": "code",
   "execution_count": 42,
   "metadata": {
    "collapsed": true
   },
   "outputs": [],
   "source": [
    "y_pred = clf.predict(x_test)"
   ]
  },
  {
   "cell_type": "code",
   "execution_count": 43,
   "metadata": {},
   "outputs": [
    {
     "data": {
      "text/plain": [
       "0.94736842105263153"
      ]
     },
     "execution_count": 43,
     "metadata": {},
     "output_type": "execute_result"
    }
   ],
   "source": [
    "accuracy_score(y_test, y_pred)"
   ]
  },
  {
   "cell_type": "code",
   "execution_count": 44,
   "metadata": {},
   "outputs": [
    {
     "name": "stdout",
     "output_type": "stream",
     "text": [
      "['sepal length (cm)', 'sepal width (cm)', 'petal length (cm)', 'petal width (cm)']\n"
     ]
    }
   ],
   "source": [
    "print(iris.feature_names)"
   ]
  },
  {
   "cell_type": "code",
   "execution_count": 45,
   "metadata": {},
   "outputs": [
    {
     "data": {
      "text/plain": [
       "array([ 0.0481294 ,  0.        ,  0.00820725,  0.94366335])"
      ]
     },
     "execution_count": 45,
     "metadata": {},
     "output_type": "execute_result"
    }
   ],
   "source": [
    "clf.feature_importances_"
   ]
  },
  {
   "cell_type": "markdown",
   "metadata": {},
   "source": [
    "### visualize our tree"
   ]
  },
  {
   "cell_type": "code",
   "execution_count": 46,
   "metadata": {},
   "outputs": [],
   "source": [
    "# run this code can install graphviz\n",
    "# conda install graphviz``"
   ]
  },
  {
   "cell_type": "code",
   "execution_count": 47,
   "metadata": {},
   "outputs": [
    {
     "data": {
      "image/svg+xml": [
       "<?xml version=\"1.0\" encoding=\"UTF-8\" standalone=\"no\"?>\n",
       "<!DOCTYPE svg PUBLIC \"-//W3C//DTD SVG 1.1//EN\"\n",
       " \"http://www.w3.org/Graphics/SVG/1.1/DTD/svg11.dtd\">\n",
       "<!-- Generated by graphviz version 2.40.1 (20161225.0304)\n",
       " -->\n",
       "<!-- Title: Tree Pages: 1 -->\n",
       "<svg width=\"371pt\" height=\"851pt\"\n",
       " viewBox=\"0.00 0.00 370.81 851.20\" xmlns=\"http://www.w3.org/2000/svg\" xmlns:xlink=\"http://www.w3.org/1999/xlink\">\n",
       "<g id=\"graph0\" class=\"graph\" transform=\"scale(1 1) rotate(0) translate(4 847.2)\">\n",
       "<title>Tree</title>\n",
       "<polygon fill=\"#ffffff\" stroke=\"transparent\" points=\"-4,4 -4,-847.2 366.8057,-847.2 366.8057,4 -4,4\"/>\n",
       "<!-- 0 -->\n",
       "<g id=\"node1\" class=\"node\">\n",
       "<title>0</title>\n",
       "<path fill=\"transparent\" stroke=\"#000000\" d=\"M206.9955,-843.2C206.9955,-843.2 78.7317,-843.2 78.7317,-843.2 72.7317,-843.2 66.7317,-837.2 66.7317,-831.2 66.7317,-831.2 66.7317,-763.2 66.7317,-763.2 66.7317,-757.2 72.7317,-751.2 78.7317,-751.2 78.7317,-751.2 206.9955,-751.2 206.9955,-751.2 212.9955,-751.2 218.9955,-757.2 218.9955,-763.2 218.9955,-763.2 218.9955,-831.2 218.9955,-831.2 218.9955,-837.2 212.9955,-843.2 206.9955,-843.2\"/>\n",
       "<text text-anchor=\"start\" x=\"74.7977\" y=\"-826.6\" font-family=\"Helvetica,sans-Serif\" font-size=\"14.00\" fill=\"#000000\">petal width (cm) ≤ 0.7</text>\n",
       "<text text-anchor=\"start\" x=\"106.486\" y=\"-809.8\" font-family=\"Helvetica,sans-Serif\" font-size=\"14.00\" fill=\"#000000\">gini = 0.666</text>\n",
       "<text text-anchor=\"start\" x=\"97.1543\" y=\"-793\" font-family=\"Helvetica,sans-Serif\" font-size=\"14.00\" fill=\"#000000\">samples = 112</text>\n",
       "<text text-anchor=\"start\" x=\"83.1389\" y=\"-776.2\" font-family=\"Helvetica,sans-Serif\" font-size=\"14.00\" fill=\"#000000\">value = [38, 36, 38]</text>\n",
       "<text text-anchor=\"start\" x=\"98.3219\" y=\"-759.4\" font-family=\"Helvetica,sans-Serif\" font-size=\"14.00\" fill=\"#000000\">class = setosa</text>\n",
       "</g>\n",
       "<!-- 1 -->\n",
       "<g id=\"node2\" class=\"node\">\n",
       "<title>1</title>\n",
       "<path fill=\"#e58139\" stroke=\"#000000\" d=\"M111.7479,-706.9003C111.7479,-706.9003 15.9793,-706.9003 15.9793,-706.9003 9.9793,-706.9003 3.9793,-700.9003 3.9793,-694.9003 3.9793,-694.9003 3.9793,-643.4997 3.9793,-643.4997 3.9793,-637.4997 9.9793,-631.4997 15.9793,-631.4997 15.9793,-631.4997 111.7479,-631.4997 111.7479,-631.4997 117.7479,-631.4997 123.7479,-637.4997 123.7479,-643.4997 123.7479,-643.4997 123.7479,-694.9003 123.7479,-694.9003 123.7479,-700.9003 117.7479,-706.9003 111.7479,-706.9003\"/>\n",
       "<text text-anchor=\"start\" x=\"35.2686\" y=\"-690.2\" font-family=\"Helvetica,sans-Serif\" font-size=\"14.00\" fill=\"#000000\">gini = 0.0</text>\n",
       "<text text-anchor=\"start\" x=\"22.0456\" y=\"-673.4\" font-family=\"Helvetica,sans-Serif\" font-size=\"14.00\" fill=\"#000000\">samples = 38</text>\n",
       "<text text-anchor=\"start\" x=\"11.9215\" y=\"-656.6\" font-family=\"Helvetica,sans-Serif\" font-size=\"14.00\" fill=\"#000000\">value = [38, 0, 0]</text>\n",
       "<text text-anchor=\"start\" x=\"19.3219\" y=\"-639.8\" font-family=\"Helvetica,sans-Serif\" font-size=\"14.00\" fill=\"#000000\">class = setosa</text>\n",
       "</g>\n",
       "<!-- 0&#45;&gt;1 -->\n",
       "<g id=\"edge1\" class=\"edge\">\n",
       "<title>0&#45;&gt;1</title>\n",
       "<path fill=\"none\" stroke=\"#000000\" d=\"M114.3428,-750.9891C107.2285,-739.4622 99.5981,-727.099 92.4793,-715.5647\"/>\n",
       "<polygon fill=\"#000000\" stroke=\"#000000\" points=\"95.3828,-713.605 87.1522,-706.9335 89.426,-717.2815 95.3828,-713.605\"/>\n",
       "<text text-anchor=\"middle\" x=\"81.3935\" y=\"-727.0612\" font-family=\"Helvetica,sans-Serif\" font-size=\"14.00\" fill=\"#000000\">True</text>\n",
       "</g>\n",
       "<!-- 2 -->\n",
       "<g id=\"node3\" class=\"node\">\n",
       "<title>2</title>\n",
       "<path fill=\"#8139e5\" fill-opacity=\"0.050980\" stroke=\"#000000\" d=\"M289.778,-715.2C289.778,-715.2 153.9492,-715.2 153.9492,-715.2 147.9492,-715.2 141.9492,-709.2 141.9492,-703.2 141.9492,-703.2 141.9492,-635.2 141.9492,-635.2 141.9492,-629.2 147.9492,-623.2 153.9492,-623.2 153.9492,-623.2 289.778,-623.2 289.778,-623.2 295.778,-623.2 301.778,-629.2 301.778,-635.2 301.778,-635.2 301.778,-703.2 301.778,-703.2 301.778,-709.2 295.778,-715.2 289.778,-715.2\"/>\n",
       "<text text-anchor=\"start\" x=\"149.9064\" y=\"-698.6\" font-family=\"Helvetica,sans-Serif\" font-size=\"14.00\" fill=\"#000000\">petal width (cm) ≤ 1.75</text>\n",
       "<text text-anchor=\"start\" x=\"193.2686\" y=\"-681.8\" font-family=\"Helvetica,sans-Serif\" font-size=\"14.00\" fill=\"#000000\">gini = 0.5</text>\n",
       "<text text-anchor=\"start\" x=\"180.0456\" y=\"-665\" font-family=\"Helvetica,sans-Serif\" font-size=\"14.00\" fill=\"#000000\">samples = 74</text>\n",
       "<text text-anchor=\"start\" x=\"166.0302\" y=\"-648.2\" font-family=\"Helvetica,sans-Serif\" font-size=\"14.00\" fill=\"#000000\">value = [0, 36, 38]</text>\n",
       "<text text-anchor=\"start\" x=\"172.277\" y=\"-631.4\" font-family=\"Helvetica,sans-Serif\" font-size=\"14.00\" fill=\"#000000\">class = virginica</text>\n",
       "</g>\n",
       "<!-- 0&#45;&gt;2 -->\n",
       "<g id=\"edge2\" class=\"edge\">\n",
       "<title>0&#45;&gt;2</title>\n",
       "<path fill=\"none\" stroke=\"#000000\" d=\"M171.3844,-750.9891C176.8102,-742.1979 182.5363,-732.9202 188.1066,-723.8949\"/>\n",
       "<polygon fill=\"#000000\" stroke=\"#000000\" points=\"191.1109,-725.6911 193.3847,-715.3431 185.1541,-722.0146 191.1109,-725.6911\"/>\n",
       "<text text-anchor=\"middle\" x=\"199.1434\" y=\"-735.4708\" font-family=\"Helvetica,sans-Serif\" font-size=\"14.00\" fill=\"#000000\">False</text>\n",
       "</g>\n",
       "<!-- 3 -->\n",
       "<g id=\"node4\" class=\"node\">\n",
       "<title>3</title>\n",
       "<path fill=\"#39e581\" fill-opacity=\"0.917647\" stroke=\"#000000\" d=\"M213.3467,-587.2C213.3467,-587.2 68.3805,-587.2 68.3805,-587.2 62.3805,-587.2 56.3805,-581.2 56.3805,-575.2 56.3805,-575.2 56.3805,-507.2 56.3805,-507.2 56.3805,-501.2 62.3805,-495.2 68.3805,-495.2 68.3805,-495.2 213.3467,-495.2 213.3467,-495.2 219.3467,-495.2 225.3467,-501.2 225.3467,-507.2 225.3467,-507.2 225.3467,-575.2 225.3467,-575.2 225.3467,-581.2 219.3467,-587.2 213.3467,-587.2\"/>\n",
       "<text text-anchor=\"start\" x=\"64.6224\" y=\"-570.6\" font-family=\"Helvetica,sans-Serif\" font-size=\"14.00\" fill=\"#000000\">sepal length (cm) ≤ 4.95</text>\n",
       "<text text-anchor=\"start\" x=\"104.486\" y=\"-553.8\" font-family=\"Helvetica,sans-Serif\" font-size=\"14.00\" fill=\"#000000\">gini = 0.142</text>\n",
       "<text text-anchor=\"start\" x=\"99.0456\" y=\"-537\" font-family=\"Helvetica,sans-Serif\" font-size=\"14.00\" fill=\"#000000\">samples = 39</text>\n",
       "<text text-anchor=\"start\" x=\"88.9215\" y=\"-520.2\" font-family=\"Helvetica,sans-Serif\" font-size=\"14.00\" fill=\"#000000\">value = [0, 36, 3]</text>\n",
       "<text text-anchor=\"start\" x=\"87\" y=\"-503.4\" font-family=\"Helvetica,sans-Serif\" font-size=\"14.00\" fill=\"#000000\">class = versicolor</text>\n",
       "</g>\n",
       "<!-- 2&#45;&gt;3 -->\n",
       "<g id=\"edge3\" class=\"edge\">\n",
       "<title>2&#45;&gt;3</title>\n",
       "<path fill=\"none\" stroke=\"#000000\" d=\"M192.6207,-622.9891C187.0576,-614.1979 181.1866,-604.9202 175.4752,-595.8949\"/>\n",
       "<polygon fill=\"#000000\" stroke=\"#000000\" points=\"178.3685,-593.9217 170.0635,-587.3431 172.4534,-597.6649 178.3685,-593.9217\"/>\n",
       "</g>\n",
       "<!-- 12 -->\n",
       "<g id=\"node13\" class=\"node\">\n",
       "<title>12</title>\n",
       "<path fill=\"#8139e5\" stroke=\"#000000\" d=\"M350.7479,-578.9003C350.7479,-578.9003 254.9793,-578.9003 254.9793,-578.9003 248.9793,-578.9003 242.9793,-572.9003 242.9793,-566.9003 242.9793,-566.9003 242.9793,-515.4997 242.9793,-515.4997 242.9793,-509.4997 248.9793,-503.4997 254.9793,-503.4997 254.9793,-503.4997 350.7479,-503.4997 350.7479,-503.4997 356.7479,-503.4997 362.7479,-509.4997 362.7479,-515.4997 362.7479,-515.4997 362.7479,-566.9003 362.7479,-566.9003 362.7479,-572.9003 356.7479,-578.9003 350.7479,-578.9003\"/>\n",
       "<text text-anchor=\"start\" x=\"274.2686\" y=\"-562.2\" font-family=\"Helvetica,sans-Serif\" font-size=\"14.00\" fill=\"#000000\">gini = 0.0</text>\n",
       "<text text-anchor=\"start\" x=\"261.0456\" y=\"-545.4\" font-family=\"Helvetica,sans-Serif\" font-size=\"14.00\" fill=\"#000000\">samples = 35</text>\n",
       "<text text-anchor=\"start\" x=\"250.9215\" y=\"-528.6\" font-family=\"Helvetica,sans-Serif\" font-size=\"14.00\" fill=\"#000000\">value = [0, 0, 35]</text>\n",
       "<text text-anchor=\"start\" x=\"253.277\" y=\"-511.8\" font-family=\"Helvetica,sans-Serif\" font-size=\"14.00\" fill=\"#000000\">class = virginica</text>\n",
       "</g>\n",
       "<!-- 2&#45;&gt;12 -->\n",
       "<g id=\"edge12\" class=\"edge\">\n",
       "<title>2&#45;&gt;12</title>\n",
       "<path fill=\"none\" stroke=\"#000000\" d=\"M251.1065,-622.9891C258.4008,-611.4622 266.2244,-599.099 273.5234,-587.5647\"/>\n",
       "<polygon fill=\"#000000\" stroke=\"#000000\" points=\"276.5955,-589.2553 278.9854,-578.9335 270.6804,-585.5121 276.5955,-589.2553\"/>\n",
       "</g>\n",
       "<!-- 4 -->\n",
       "<g id=\"node5\" class=\"node\">\n",
       "<title>4</title>\n",
       "<path fill=\"#8139e5\" stroke=\"#000000\" d=\"M106.5369,-450.9003C106.5369,-450.9003 15.1903,-450.9003 15.1903,-450.9003 9.1903,-450.9003 3.1903,-444.9003 3.1903,-438.9003 3.1903,-438.9003 3.1903,-387.4997 3.1903,-387.4997 3.1903,-381.4997 9.1903,-375.4997 15.1903,-375.4997 15.1903,-375.4997 106.5369,-375.4997 106.5369,-375.4997 112.5369,-375.4997 118.5369,-381.4997 118.5369,-387.4997 118.5369,-387.4997 118.5369,-438.9003 118.5369,-438.9003 118.5369,-444.9003 112.5369,-450.9003 106.5369,-450.9003\"/>\n",
       "<text text-anchor=\"start\" x=\"32.2686\" y=\"-434.2\" font-family=\"Helvetica,sans-Serif\" font-size=\"14.00\" fill=\"#000000\">gini = 0.0</text>\n",
       "<text text-anchor=\"start\" x=\"22.9369\" y=\"-417.4\" font-family=\"Helvetica,sans-Serif\" font-size=\"14.00\" fill=\"#000000\">samples = 1</text>\n",
       "<text text-anchor=\"start\" x=\"12.8128\" y=\"-400.6\" font-family=\"Helvetica,sans-Serif\" font-size=\"14.00\" fill=\"#000000\">value = [0, 0, 1]</text>\n",
       "<text text-anchor=\"start\" x=\"11.277\" y=\"-383.8\" font-family=\"Helvetica,sans-Serif\" font-size=\"14.00\" fill=\"#000000\">class = virginica</text>\n",
       "</g>\n",
       "<!-- 3&#45;&gt;4 -->\n",
       "<g id=\"edge4\" class=\"edge\">\n",
       "<title>3&#45;&gt;4</title>\n",
       "<path fill=\"none\" stroke=\"#000000\" d=\"M111.9818,-494.9891C104.7775,-483.4622 97.0505,-471.099 89.8415,-459.5647\"/>\n",
       "<polygon fill=\"#000000\" stroke=\"#000000\" points=\"92.7151,-457.5585 84.447,-450.9335 86.7791,-461.2685 92.7151,-457.5585\"/>\n",
       "</g>\n",
       "<!-- 5 -->\n",
       "<g id=\"node6\" class=\"node\">\n",
       "<title>5</title>\n",
       "<path fill=\"#39e581\" fill-opacity=\"0.945098\" stroke=\"#000000\" d=\"M293.3467,-459.2C293.3467,-459.2 148.3805,-459.2 148.3805,-459.2 142.3805,-459.2 136.3805,-453.2 136.3805,-447.2 136.3805,-447.2 136.3805,-379.2 136.3805,-379.2 136.3805,-373.2 142.3805,-367.2 148.3805,-367.2 148.3805,-367.2 293.3467,-367.2 293.3467,-367.2 299.3467,-367.2 305.3467,-373.2 305.3467,-379.2 305.3467,-379.2 305.3467,-447.2 305.3467,-447.2 305.3467,-453.2 299.3467,-459.2 293.3467,-459.2\"/>\n",
       "<text text-anchor=\"start\" x=\"144.6224\" y=\"-442.6\" font-family=\"Helvetica,sans-Serif\" font-size=\"14.00\" fill=\"#000000\">sepal length (cm) ≤ 7.05</text>\n",
       "<text text-anchor=\"start\" x=\"192.2686\" y=\"-425.8\" font-family=\"Helvetica,sans-Serif\" font-size=\"14.00\" fill=\"#000000\">gini = 0.1</text>\n",
       "<text text-anchor=\"start\" x=\"179.0456\" y=\"-409\" font-family=\"Helvetica,sans-Serif\" font-size=\"14.00\" fill=\"#000000\">samples = 38</text>\n",
       "<text text-anchor=\"start\" x=\"168.9215\" y=\"-392.2\" font-family=\"Helvetica,sans-Serif\" font-size=\"14.00\" fill=\"#000000\">value = [0, 36, 2]</text>\n",
       "<text text-anchor=\"start\" x=\"167\" y=\"-375.4\" font-family=\"Helvetica,sans-Serif\" font-size=\"14.00\" fill=\"#000000\">class = versicolor</text>\n",
       "</g>\n",
       "<!-- 3&#45;&gt;5 -->\n",
       "<g id=\"edge5\" class=\"edge\">\n",
       "<title>3&#45;&gt;5</title>\n",
       "<path fill=\"none\" stroke=\"#000000\" d=\"M169.7454,-494.9891C175.2399,-486.1979 181.0384,-476.9202 186.6793,-467.8949\"/>\n",
       "<polygon fill=\"#000000\" stroke=\"#000000\" points=\"189.6921,-469.6781 192.0242,-459.3431 183.7561,-465.9681 189.6921,-469.6781\"/>\n",
       "</g>\n",
       "<!-- 6 -->\n",
       "<g id=\"node7\" class=\"node\">\n",
       "<title>6</title>\n",
       "<path fill=\"#39e581\" fill-opacity=\"0.972549\" stroke=\"#000000\" d=\"M212.737,-331.2C212.737,-331.2 70.9902,-331.2 70.9902,-331.2 64.9902,-331.2 58.9902,-325.2 58.9902,-319.2 58.9902,-319.2 58.9902,-251.2 58.9902,-251.2 58.9902,-245.2 64.9902,-239.2 70.9902,-239.2 70.9902,-239.2 212.737,-239.2 212.737,-239.2 218.737,-239.2 224.737,-245.2 224.737,-251.2 224.737,-251.2 224.737,-319.2 224.737,-319.2 224.737,-325.2 218.737,-331.2 212.737,-331.2\"/>\n",
       "<text text-anchor=\"start\" x=\"67.1771\" y=\"-314.6\" font-family=\"Helvetica,sans-Serif\" font-size=\"14.00\" fill=\"#000000\">petal length (cm) ≤ 4.95</text>\n",
       "<text text-anchor=\"start\" x=\"105.486\" y=\"-297.8\" font-family=\"Helvetica,sans-Serif\" font-size=\"14.00\" fill=\"#000000\">gini = 0.053</text>\n",
       "<text text-anchor=\"start\" x=\"100.0456\" y=\"-281\" font-family=\"Helvetica,sans-Serif\" font-size=\"14.00\" fill=\"#000000\">samples = 37</text>\n",
       "<text text-anchor=\"start\" x=\"89.9215\" y=\"-264.2\" font-family=\"Helvetica,sans-Serif\" font-size=\"14.00\" fill=\"#000000\">value = [0, 36, 1]</text>\n",
       "<text text-anchor=\"start\" x=\"88\" y=\"-247.4\" font-family=\"Helvetica,sans-Serif\" font-size=\"14.00\" fill=\"#000000\">class = versicolor</text>\n",
       "</g>\n",
       "<!-- 5&#45;&gt;6 -->\n",
       "<g id=\"edge6\" class=\"edge\">\n",
       "<title>5&#45;&gt;6</title>\n",
       "<path fill=\"none\" stroke=\"#000000\" d=\"M192.3428,-366.9891C186.917,-358.1979 181.1909,-348.9202 175.6206,-339.8949\"/>\n",
       "<polygon fill=\"#000000\" stroke=\"#000000\" points=\"178.5731,-338.0146 170.3425,-331.3431 172.6163,-341.6911 178.5731,-338.0146\"/>\n",
       "</g>\n",
       "<!-- 11 -->\n",
       "<g id=\"node12\" class=\"node\">\n",
       "<title>11</title>\n",
       "<path fill=\"#8139e5\" stroke=\"#000000\" d=\"M345.5369,-322.9003C345.5369,-322.9003 254.1903,-322.9003 254.1903,-322.9003 248.1903,-322.9003 242.1903,-316.9003 242.1903,-310.9003 242.1903,-310.9003 242.1903,-259.4997 242.1903,-259.4997 242.1903,-253.4997 248.1903,-247.4997 254.1903,-247.4997 254.1903,-247.4997 345.5369,-247.4997 345.5369,-247.4997 351.5369,-247.4997 357.5369,-253.4997 357.5369,-259.4997 357.5369,-259.4997 357.5369,-310.9003 357.5369,-310.9003 357.5369,-316.9003 351.5369,-322.9003 345.5369,-322.9003\"/>\n",
       "<text text-anchor=\"start\" x=\"271.2686\" y=\"-306.2\" font-family=\"Helvetica,sans-Serif\" font-size=\"14.00\" fill=\"#000000\">gini = 0.0</text>\n",
       "<text text-anchor=\"start\" x=\"261.9369\" y=\"-289.4\" font-family=\"Helvetica,sans-Serif\" font-size=\"14.00\" fill=\"#000000\">samples = 1</text>\n",
       "<text text-anchor=\"start\" x=\"251.8128\" y=\"-272.6\" font-family=\"Helvetica,sans-Serif\" font-size=\"14.00\" fill=\"#000000\">value = [0, 0, 1]</text>\n",
       "<text text-anchor=\"start\" x=\"250.277\" y=\"-255.8\" font-family=\"Helvetica,sans-Serif\" font-size=\"14.00\" fill=\"#000000\">class = virginica</text>\n",
       "</g>\n",
       "<!-- 5&#45;&gt;11 -->\n",
       "<g id=\"edge11\" class=\"edge\">\n",
       "<title>5&#45;&gt;11</title>\n",
       "<path fill=\"none\" stroke=\"#000000\" d=\"M249.3844,-366.9891C256.4987,-355.4622 264.1291,-343.099 271.2479,-331.5647\"/>\n",
       "<polygon fill=\"#000000\" stroke=\"#000000\" points=\"274.3012,-333.2815 276.575,-322.9335 268.3444,-329.605 274.3012,-333.2815\"/>\n",
       "</g>\n",
       "<!-- 7 -->\n",
       "<g id=\"node8\" class=\"node\">\n",
       "<title>7</title>\n",
       "<path fill=\"#39e581\" stroke=\"#000000\" d=\"M111.5911,-194.9003C111.5911,-194.9003 12.1361,-194.9003 12.1361,-194.9003 6.1361,-194.9003 .1361,-188.9003 .1361,-182.9003 .1361,-182.9003 .1361,-131.4997 .1361,-131.4997 .1361,-125.4997 6.1361,-119.4997 12.1361,-119.4997 12.1361,-119.4997 111.5911,-119.4997 111.5911,-119.4997 117.5911,-119.4997 123.5911,-125.4997 123.5911,-131.4997 123.5911,-131.4997 123.5911,-182.9003 123.5911,-182.9003 123.5911,-188.9003 117.5911,-194.9003 111.5911,-194.9003\"/>\n",
       "<text text-anchor=\"start\" x=\"33.2686\" y=\"-178.2\" font-family=\"Helvetica,sans-Serif\" font-size=\"14.00\" fill=\"#000000\">gini = 0.0</text>\n",
       "<text text-anchor=\"start\" x=\"20.0456\" y=\"-161.4\" font-family=\"Helvetica,sans-Serif\" font-size=\"14.00\" fill=\"#000000\">samples = 34</text>\n",
       "<text text-anchor=\"start\" x=\"9.9215\" y=\"-144.6\" font-family=\"Helvetica,sans-Serif\" font-size=\"14.00\" fill=\"#000000\">value = [0, 34, 0]</text>\n",
       "<text text-anchor=\"start\" x=\"8\" y=\"-127.8\" font-family=\"Helvetica,sans-Serif\" font-size=\"14.00\" fill=\"#000000\">class = versicolor</text>\n",
       "</g>\n",
       "<!-- 6&#45;&gt;7 -->\n",
       "<g id=\"edge7\" class=\"edge\">\n",
       "<title>6&#45;&gt;7</title>\n",
       "<path fill=\"none\" stroke=\"#000000\" d=\"M112.9818,-238.9891C105.7775,-227.4622 98.0505,-215.099 90.8415,-203.5647\"/>\n",
       "<polygon fill=\"#000000\" stroke=\"#000000\" points=\"93.7151,-201.5585 85.447,-194.9335 87.7791,-205.2685 93.7151,-201.5585\"/>\n",
       "</g>\n",
       "<!-- 8 -->\n",
       "<g id=\"node9\" class=\"node\">\n",
       "<title>8</title>\n",
       "<path fill=\"#39e581\" fill-opacity=\"0.498039\" stroke=\"#000000\" d=\"M289.778,-203.2C289.778,-203.2 153.9492,-203.2 153.9492,-203.2 147.9492,-203.2 141.9492,-197.2 141.9492,-191.2 141.9492,-191.2 141.9492,-123.2 141.9492,-123.2 141.9492,-117.2 147.9492,-111.2 153.9492,-111.2 153.9492,-111.2 289.778,-111.2 289.778,-111.2 295.778,-111.2 301.778,-117.2 301.778,-123.2 301.778,-123.2 301.778,-191.2 301.778,-191.2 301.778,-197.2 295.778,-203.2 289.778,-203.2\"/>\n",
       "<text text-anchor=\"start\" x=\"149.9064\" y=\"-186.6\" font-family=\"Helvetica,sans-Serif\" font-size=\"14.00\" fill=\"#000000\">petal width (cm) ≤ 1.55</text>\n",
       "<text text-anchor=\"start\" x=\"185.486\" y=\"-169.8\" font-family=\"Helvetica,sans-Serif\" font-size=\"14.00\" fill=\"#000000\">gini = 0.444</text>\n",
       "<text text-anchor=\"start\" x=\"183.9369\" y=\"-153\" font-family=\"Helvetica,sans-Serif\" font-size=\"14.00\" fill=\"#000000\">samples = 3</text>\n",
       "<text text-anchor=\"start\" x=\"173.8128\" y=\"-136.2\" font-family=\"Helvetica,sans-Serif\" font-size=\"14.00\" fill=\"#000000\">value = [0, 2, 1]</text>\n",
       "<text text-anchor=\"start\" x=\"168\" y=\"-119.4\" font-family=\"Helvetica,sans-Serif\" font-size=\"14.00\" fill=\"#000000\">class = versicolor</text>\n",
       "</g>\n",
       "<!-- 6&#45;&gt;8 -->\n",
       "<g id=\"edge8\" class=\"edge\">\n",
       "<title>6&#45;&gt;8</title>\n",
       "<path fill=\"none\" stroke=\"#000000\" d=\"M170.7454,-238.9891C176.2399,-230.1979 182.0384,-220.9202 187.6793,-211.8949\"/>\n",
       "<polygon fill=\"#000000\" stroke=\"#000000\" points=\"190.6921,-213.6781 193.0242,-203.3431 184.7561,-209.9681 190.6921,-213.6781\"/>\n",
       "</g>\n",
       "<!-- 9 -->\n",
       "<g id=\"node10\" class=\"node\">\n",
       "<title>9</title>\n",
       "<path fill=\"#8139e5\" stroke=\"#000000\" d=\"M198.5369,-75.3003C198.5369,-75.3003 107.1903,-75.3003 107.1903,-75.3003 101.1903,-75.3003 95.1903,-69.3003 95.1903,-63.3003 95.1903,-63.3003 95.1903,-11.8997 95.1903,-11.8997 95.1903,-5.8997 101.1903,.1003 107.1903,.1003 107.1903,.1003 198.5369,.1003 198.5369,.1003 204.5369,.1003 210.5369,-5.8997 210.5369,-11.8997 210.5369,-11.8997 210.5369,-63.3003 210.5369,-63.3003 210.5369,-69.3003 204.5369,-75.3003 198.5369,-75.3003\"/>\n",
       "<text text-anchor=\"start\" x=\"124.2686\" y=\"-58.6\" font-family=\"Helvetica,sans-Serif\" font-size=\"14.00\" fill=\"#000000\">gini = 0.0</text>\n",
       "<text text-anchor=\"start\" x=\"114.9369\" y=\"-41.8\" font-family=\"Helvetica,sans-Serif\" font-size=\"14.00\" fill=\"#000000\">samples = 1</text>\n",
       "<text text-anchor=\"start\" x=\"104.8128\" y=\"-25\" font-family=\"Helvetica,sans-Serif\" font-size=\"14.00\" fill=\"#000000\">value = [0, 0, 1]</text>\n",
       "<text text-anchor=\"start\" x=\"103.277\" y=\"-8.2\" font-family=\"Helvetica,sans-Serif\" font-size=\"14.00\" fill=\"#000000\">class = virginica</text>\n",
       "</g>\n",
       "<!-- 8&#45;&gt;9 -->\n",
       "<g id=\"edge9\" class=\"edge\">\n",
       "<title>8&#45;&gt;9</title>\n",
       "<path fill=\"none\" stroke=\"#000000\" d=\"M195.1864,-110.9595C190.0668,-102.0855 184.7046,-92.791 179.5836,-83.9147\"/>\n",
       "<polygon fill=\"#000000\" stroke=\"#000000\" points=\"182.5899,-82.1216 174.561,-75.2088 176.5266,-85.6197 182.5899,-82.1216\"/>\n",
       "</g>\n",
       "<!-- 10 -->\n",
       "<g id=\"node11\" class=\"node\">\n",
       "<title>10</title>\n",
       "<path fill=\"#39e581\" stroke=\"#000000\" d=\"M339.5911,-75.3003C339.5911,-75.3003 240.1361,-75.3003 240.1361,-75.3003 234.1361,-75.3003 228.1361,-69.3003 228.1361,-63.3003 228.1361,-63.3003 228.1361,-11.8997 228.1361,-11.8997 228.1361,-5.8997 234.1361,.1003 240.1361,.1003 240.1361,.1003 339.5911,.1003 339.5911,.1003 345.5911,.1003 351.5911,-5.8997 351.5911,-11.8997 351.5911,-11.8997 351.5911,-63.3003 351.5911,-63.3003 351.5911,-69.3003 345.5911,-75.3003 339.5911,-75.3003\"/>\n",
       "<text text-anchor=\"start\" x=\"261.2686\" y=\"-58.6\" font-family=\"Helvetica,sans-Serif\" font-size=\"14.00\" fill=\"#000000\">gini = 0.0</text>\n",
       "<text text-anchor=\"start\" x=\"251.9369\" y=\"-41.8\" font-family=\"Helvetica,sans-Serif\" font-size=\"14.00\" fill=\"#000000\">samples = 2</text>\n",
       "<text text-anchor=\"start\" x=\"241.8128\" y=\"-25\" font-family=\"Helvetica,sans-Serif\" font-size=\"14.00\" fill=\"#000000\">value = [0, 2, 0]</text>\n",
       "<text text-anchor=\"start\" x=\"236\" y=\"-8.2\" font-family=\"Helvetica,sans-Serif\" font-size=\"14.00\" fill=\"#000000\">class = versicolor</text>\n",
       "</g>\n",
       "<!-- 8&#45;&gt;10 -->\n",
       "<g id=\"edge10\" class=\"edge\">\n",
       "<title>8&#45;&gt;10</title>\n",
       "<path fill=\"none\" stroke=\"#000000\" d=\"M248.1542,-110.9595C253.1996,-102.0855 258.4841,-92.791 263.5308,-83.9147\"/>\n",
       "<polygon fill=\"#000000\" stroke=\"#000000\" points=\"266.5806,-85.6319 268.4807,-75.2088 260.4954,-82.1721 266.5806,-85.6319\"/>\n",
       "</g>\n",
       "</g>\n",
       "</svg>\n"
      ],
      "text/plain": [
       "<graphviz.files.Source at 0x113fd8240>"
      ]
     },
     "execution_count": 47,
     "metadata": {},
     "output_type": "execute_result"
    }
   ],
   "source": [
    "# 如環境未安裝 graphviz，無法執行此段 code\n",
    "from sklearn.tree import export_graphviz\n",
    "import graphviz\n",
    "\n",
    "dot_data = export_graphviz(clf, out_file=None, \n",
    "                         feature_names=iris.feature_names,  \n",
    "                         class_names=iris.target_names,  \n",
    "                         filled=True, rounded=True,  \n",
    "                         special_characters=True)  \n",
    "graph = graphviz.Source(dot_data) \n",
    "graph"
   ]
  },
  {
   "cell_type": "markdown",
   "metadata": {},
   "source": [
    "## 練習"
   ]
  },
  {
   "cell_type": "markdown",
   "metadata": {},
   "source": [
    "請使用 Iris / Digits dataset，建立決策樹模型，試著更改 DecisionTree 中的 criterion, max_depth, min_samples_split 等參數，並評估不同的參數是否會影響\n",
    "- training error / loss\n",
    "- testing error / loss\n",
    "- training time (可使用 %timeit 測試該行 code 的執行速度)"
   ]
  },
  {
   "cell_type": "code",
   "execution_count": 48,
   "metadata": {},
   "outputs": [
    {
     "name": "stdout",
     "output_type": "stream",
     "text": [
      "5.92 µs ± 194 ns per loop (mean ± std. dev. of 7 runs, 100000 loops each)\n"
     ]
    }
   ],
   "source": [
    "# example for how to use %%timeit\n",
    "import numpy\n",
    "%timeit numpy.random.normal(size=100)"
   ]
  },
  {
   "cell_type": "code",
   "execution_count": null,
   "metadata": {
    "collapsed": true
   },
   "outputs": [],
   "source": []
  }
 ],
 "metadata": {
  "kernelspec": {
   "display_name": "Python 3",
   "language": "python",
   "name": "python3"
  },
  "language_info": {
   "codemirror_mode": {
    "name": "ipython",
    "version": 3
   },
   "file_extension": ".py",
   "mimetype": "text/x-python",
   "name": "python",
   "nbconvert_exporter": "python",
   "pygments_lexer": "ipython3",
   "version": "3.6.3"
  }
 },
 "nbformat": 4,
 "nbformat_minor": 2
}
